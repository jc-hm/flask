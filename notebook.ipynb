{
 "metadata": {
  "language_info": {
   "name": "python"
  },
  "lastEditStatus": {
   "notebookId": "x4ixu6nbge3hvybr4ukt",
   "authorId": "1591710746858",
   "authorName": "JCHERNANDEZ",
   "authorEmail": "jc.hernandez@snowflake.com",
   "sessionId": "229bdcef-8809-4686-8e35-00ee45f0e96b",
   "lastEditTime": 1751913105281
  }
 },
 "nbformat_minor": 5,
 "nbformat": 4,
 "cells": [
  {
   "cell_type": "code",
   "execution_count": null,
   "id": "7915e5fc-8584-48ff-81b6-8325ab80964b",
   "metadata": {
    "vscode": {
     "languageId": "plaintext"
    },
    "name": "cell1",
    "language": "python"
   },
   "outputs": [],
   "source": [
    "# foo"
   ]
  }
 ]
}