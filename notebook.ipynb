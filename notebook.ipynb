{
 "cells": [
  {
   "cell_type": "code",
   "execution_count": null,
   "id": "058eb501",
   "metadata": {
    "vscode": {
     "languageId": "plaintext"
    }
   },
   "outputs": [],
   "source": [
    "# foo"
   ]
  }
 ],
 "metadata": {
  "language_info": {
   "name": "python"
  }
 },
 "nbformat": 4,
 "nbformat_minor": 5
}
